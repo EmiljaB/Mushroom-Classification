{
  "nbformat": 4,
  "nbformat_minor": 0,
  "metadata": {
    "colab": {
      "provenance": [],
      "authorship_tag": "ABX9TyNl6FdQZGCkoZVjNHekixz5",
      "include_colab_link": true
    },
    "kernelspec": {
      "name": "python3",
      "display_name": "Python 3"
    },
    "language_info": {
      "name": "python"
    }
  },
  "cells": [
    {
      "cell_type": "markdown",
      "metadata": {
        "id": "view-in-github",
        "colab_type": "text"
      },
      "source": [
        "<a href=\"https://colab.research.google.com/github/EmiljaB/Mushroom-Classification/blob/main/Mushroom_Classification.ipynb\" target=\"_parent\"><img src=\"https://colab.research.google.com/assets/colab-badge.svg\" alt=\"Open In Colab\"/></a>"
      ]
    },
    {
      "cell_type": "markdown",
      "source": [
        "# Classification of categorical data using label encoding and one-hot encoding in the Mushroom dataset from UCI repository."
      ],
      "metadata": {
        "id": "kfdZtdblhfT6"
      }
    },
    {
      "cell_type": "markdown",
      "source": [
        "Decision tree after label enconding\n"
      ],
      "metadata": {
        "id": "sXFdLgzxepS9"
      }
    },
    {
      "cell_type": "code",
      "execution_count": null,
      "metadata": {
        "colab": {
          "base_uri": "https://localhost:8080/"
        },
        "id": "GjNWlwWaeZrk",
        "outputId": "3d9ce705-23af-4481-e390-b6417dda18fc"
      },
      "outputs": [
        {
          "output_type": "stream",
          "name": "stdout",
          "text": [
            "[[3779    0]\n",
            " [  40 3493]]\n",
            "              precision    recall  f1-score   support\n",
            "\n",
            "           e       0.99      1.00      0.99      3779\n",
            "           p       1.00      0.99      0.99      3533\n",
            "\n",
            "    accuracy                           0.99      7312\n",
            "   macro avg       0.99      0.99      0.99      7312\n",
            "weighted avg       0.99      0.99      0.99      7312\n",
            "\n"
          ]
        }
      ],
      "source": [
        "import pandas as pd\n",
        "from sklearn.tree import DecisionTreeClassifier\n",
        "from sklearn.preprocessing import LabelEncoder\n",
        "\n",
        "data = pd.read_csv('https://archive.ics.uci.edu/ml/machine-learning-databases/mushroom/agaricus-lepiota.data',header=None)\n",
        "\n",
        "x = data.iloc[:,1:]\n",
        "y = data.iloc[:, 0]\n",
        "\n",
        "labelencoder=LabelEncoder()\n",
        "x = x.apply(labelencoder.fit_transform)\n",
        "\n",
        "from sklearn.model_selection import train_test_split\n",
        "x_train, x_test, y_train, y_test = train_test_split(x, y, test_size=0.9)\n",
        "\n",
        "classifier = DecisionTreeClassifier()\n",
        "classifier.fit(x_train, y_train)\n",
        "\n",
        "#predict the labels of clusters.\n",
        "y_predicted = classifier.predict(x_test)\n",
        "\n",
        "from sklearn.metrics import classification_report, confusion_matrix\n",
        "print(confusion_matrix(y_test, y_predicted))\n",
        "print(classification_report(y_test, y_predicted))"
      ]
    },
    {
      "cell_type": "markdown",
      "source": [
        "Decision Tree after one-hot encoding\n"
      ],
      "metadata": {
        "id": "wlOXO3rCejB1"
      }
    },
    {
      "cell_type": "code",
      "source": [
        "import pandas as pd\n",
        "from sklearn.tree import DecisionTreeClassifier\n",
        "\n",
        "data = pd.read_csv('https://archive.ics.uci.edu/ml/machine-learning-databases/mushroom/agaricus-lepiota.data',header=None)\n",
        "\n",
        "x = data.iloc[:,1:]\n",
        "y = data.iloc[:, 0]\n",
        "\n",
        "x = pd.get_dummies(x) #one-hot encoding\n",
        "\n",
        "from sklearn.model_selection import train_test_split\n",
        "x_train, x_test, y_train, y_test = train_test_split(x, y, test_size=0.9, random_state = 20)\n",
        "\n",
        "classifier = DecisionTreeClassifier()\n",
        "classifier.fit(x_train, y_train)\n",
        "\n",
        "#predict the labels of clusters.\n",
        "y_predicted = classifier.predict(x_test)\n",
        "\n",
        "from sklearn.metrics import classification_report, confusion_matrix\n",
        "print(confusion_matrix(y_test, y_predicted))\n",
        "print(classification_report(y_test, y_predicted))"
      ],
      "metadata": {
        "colab": {
          "base_uri": "https://localhost:8080/"
        },
        "id": "xgGNSB4deruO",
        "outputId": "19df73a5-ab7c-4a93-8e0c-cba4af450ef2"
      },
      "execution_count": null,
      "outputs": [
        {
          "output_type": "stream",
          "name": "stdout",
          "text": [
            "[[3763   16]\n",
            " [   8 3525]]\n",
            "              precision    recall  f1-score   support\n",
            "\n",
            "           e       1.00      1.00      1.00      3779\n",
            "           p       1.00      1.00      1.00      3533\n",
            "\n",
            "    accuracy                           1.00      7312\n",
            "   macro avg       1.00      1.00      1.00      7312\n",
            "weighted avg       1.00      1.00      1.00      7312\n",
            "\n"
          ]
        }
      ]
    },
    {
      "cell_type": "markdown",
      "source": [
        "KNN after label encoding"
      ],
      "metadata": {
        "id": "apCQ6QHBezPQ"
      }
    },
    {
      "cell_type": "code",
      "source": [
        "import pandas as pd\n",
        "from sklearn.neighbors import KNeighborsClassifier\n",
        "from sklearn.preprocessing import LabelEncoder\n",
        "\n",
        "data = pd.read_csv('https://archive.ics.uci.edu/ml/machine-learning-databases/mushroom/agaricus-lepiota.data',header=None)\n",
        "\n",
        "x = data.iloc[:,1:]\n",
        "y = data.iloc[:, 0]\n",
        "\n",
        "labelencoder=LabelEncoder()\n",
        "x = x.apply(labelencoder.fit_transform)\n",
        "\n",
        "from sklearn.model_selection import train_test_split\n",
        "x_train, x_test, y_train, y_test = train_test_split(x, y, test_size=0.9)\n",
        "\n",
        "classifier = KNeighborsClassifier(n_neighbors=5)\n",
        "classifier.fit(x_train, y_train)\n",
        "\n",
        "#predict the labels of clusters.\n",
        "y_predicted = classifier.predict(x_test)\n",
        "\n",
        "from sklearn.metrics import classification_report, confusion_matrix\n",
        "print(confusion_matrix(y_test, y_predicted))\n",
        "print(classification_report(y_test, y_predicted))"
      ],
      "metadata": {
        "colab": {
          "base_uri": "https://localhost:8080/"
        },
        "id": "iPbHaeDVe-fR",
        "outputId": "90d9c7b8-da1e-4ea8-da25-6619e3f529e4"
      },
      "execution_count": null,
      "outputs": [
        {
          "output_type": "stream",
          "name": "stdout",
          "text": [
            "[[3727   46]\n",
            " [ 116 3423]]\n",
            "              precision    recall  f1-score   support\n",
            "\n",
            "           e       0.97      0.99      0.98      3773\n",
            "           p       0.99      0.97      0.98      3539\n",
            "\n",
            "    accuracy                           0.98      7312\n",
            "   macro avg       0.98      0.98      0.98      7312\n",
            "weighted avg       0.98      0.98      0.98      7312\n",
            "\n"
          ]
        }
      ]
    },
    {
      "cell_type": "markdown",
      "source": [
        "KNN after one-hot encoding"
      ],
      "metadata": {
        "id": "LxzO_knBfFUN"
      }
    },
    {
      "cell_type": "code",
      "source": [
        "import pandas as pd\n",
        "from sklearn.neighbors import KNeighborsClassifier\n",
        "\n",
        "data = pd.read_csv('https://archive.ics.uci.edu/ml/machine-learning-databases/mushroom/agaricus-lepiota.data',header=None)\n",
        "\n",
        "\n",
        "x = data.iloc[:,1:]\n",
        "y = data.iloc[:, 0]\n",
        "\n",
        "x = pd.get_dummies(x) #one-hot encoding\n",
        "\n",
        "from sklearn.model_selection import train_test_split\n",
        "x_train, x_test, y_train, y_test = train_test_split(x, y, test_size=0.9)\n",
        "\n",
        "classifier = KNeighborsClassifier(n_neighbors=5)\n",
        "classifier.fit(x_train, y_train)\n",
        "\n",
        "#predict the labels of clusters.\n",
        "y_predicted = classifier.predict(x_test)\n",
        "\n",
        "from sklearn.metrics import classification_report, confusion_matrix\n",
        "print(confusion_matrix(y_test, y_predicted))\n",
        "print(classification_report(y_test, y_predicted))"
      ],
      "metadata": {
        "colab": {
          "base_uri": "https://localhost:8080/"
        },
        "id": "_3AgECmifEZ7",
        "outputId": "0d010f72-9bcb-4433-c082-80287bc1aa8c"
      },
      "execution_count": null,
      "outputs": [
        {
          "output_type": "stream",
          "name": "stdout",
          "text": [
            "[[3768    0]\n",
            " [  14 3530]]\n",
            "              precision    recall  f1-score   support\n",
            "\n",
            "           e       1.00      1.00      1.00      3768\n",
            "           p       1.00      1.00      1.00      3544\n",
            "\n",
            "    accuracy                           1.00      7312\n",
            "   macro avg       1.00      1.00      1.00      7312\n",
            "weighted avg       1.00      1.00      1.00      7312\n",
            "\n"
          ]
        }
      ]
    },
    {
      "cell_type": "markdown",
      "source": [
        "SVM after label encoding"
      ],
      "metadata": {
        "id": "vzFUzaUZfOJF"
      }
    },
    {
      "cell_type": "code",
      "source": [
        "import pandas as pd\n",
        "from sklearn import svm\n",
        "from sklearn.preprocessing import LabelEncoder\n",
        "\n",
        "data = pd.read_csv('https://archive.ics.uci.edu/ml/machine-learning-databases/mushroom/agaricus-lepiota.data',header=None)\n",
        "\n",
        "x = data.iloc[:,1:]\n",
        "y = data.iloc[:, 0]\n",
        "\n",
        "labelencoder=LabelEncoder()\n",
        "x = x.apply(labelencoder.fit_transform)\n",
        "\n",
        "from sklearn.model_selection import train_test_split\n",
        "x_train, x_test, y_train, y_test = train_test_split(x, y, test_size=0.8)\n",
        "\n",
        "classifier = svm.SVC(kernel='poly')\n",
        "classifier.fit(x_train, y_train)\n",
        "\n",
        "#predict the labels of clusters.\n",
        "y_predicted = classifier.predict(x_test)\n",
        "\n",
        "from sklearn.metrics import classification_report, confusion_matrix\n",
        "print(confusion_matrix(y_test, y_predicted))\n",
        "print(classification_report(y_test, y_predicted))"
      ],
      "metadata": {
        "colab": {
          "base_uri": "https://localhost:8080/"
        },
        "id": "wO1jFKm4fN4y",
        "outputId": "d0d0ffd0-09f8-446f-c581-345a2e11652d"
      },
      "execution_count": null,
      "outputs": [
        {
          "output_type": "stream",
          "name": "stdout",
          "text": [
            "[[3356    9]\n",
            " [  86 3049]]\n",
            "              precision    recall  f1-score   support\n",
            "\n",
            "           e       0.98      1.00      0.99      3365\n",
            "           p       1.00      0.97      0.98      3135\n",
            "\n",
            "    accuracy                           0.99      6500\n",
            "   macro avg       0.99      0.98      0.99      6500\n",
            "weighted avg       0.99      0.99      0.99      6500\n",
            "\n"
          ]
        }
      ]
    },
    {
      "cell_type": "code",
      "source": [
        "import pandas as pd\n",
        "from sklearn import svm\n",
        "from sklearn.preprocessing import LabelEncoder\n",
        "\n",
        "\n",
        "data = pd.read_csv('https://archive.ics.uci.edu/ml/machine-learning-databases/mushroom/agaricus-lepiota.data',header=None)\n",
        "\n",
        "x = data.iloc[:,1:]\n",
        "y = data.iloc[:, 0]\n",
        "\n",
        "x = pd.get_dummies(x)\n",
        "\n",
        "print(x)\n",
        "\n",
        "from sklearn.model_selection import train_test_split\n",
        "x_train, x_test, y_train, y_test = train_test_split(x, y, test_size=0.8)\n",
        "\n",
        "classifier = svm.SVC(kernel='poly')\n",
        "classifier.fit(x_train, y_train)\n",
        "\n",
        "#predict the labels of clusters.\n",
        "y_predicted = classifier.predict(x_test)\n",
        "\n",
        "from sklearn.metrics import classification_report, confusion_matrix\n",
        "print(confusion_matrix(y_test, y_predicted))\n",
        "print(classification_report(y_test, y_predicted))"
      ],
      "metadata": {
        "colab": {
          "base_uri": "https://localhost:8080/"
        },
        "id": "EtGIxL_egDbc",
        "outputId": "94622ed8-a218-481a-ceee-064711864b8a"
      },
      "execution_count": null,
      "outputs": [
        {
          "output_type": "stream",
          "name": "stdout",
          "text": [
            "        1_b    1_c    1_f    1_k    1_s    1_x    2_f    2_g    2_s    2_y  \\\n",
            "0     False  False  False  False  False   True  False  False   True  False   \n",
            "1     False  False  False  False  False   True  False  False   True  False   \n",
            "2      True  False  False  False  False  False  False  False   True  False   \n",
            "3     False  False  False  False  False   True  False  False  False   True   \n",
            "4     False  False  False  False  False   True  False  False   True  False   \n",
            "...     ...    ...    ...    ...    ...    ...    ...    ...    ...    ...   \n",
            "8119  False  False  False   True  False  False  False  False   True  False   \n",
            "8120  False  False  False  False  False   True  False  False   True  False   \n",
            "8121  False  False   True  False  False  False  False  False   True  False   \n",
            "8122  False  False  False   True  False  False  False  False  False   True   \n",
            "8123  False  False  False  False  False   True  False  False   True  False   \n",
            "\n",
            "      ...   21_s   21_v   21_y   22_d   22_g   22_l   22_m   22_p   22_u  \\\n",
            "0     ...   True  False  False  False  False  False  False  False   True   \n",
            "1     ...  False  False  False  False   True  False  False  False  False   \n",
            "2     ...  False  False  False  False  False  False   True  False  False   \n",
            "3     ...   True  False  False  False  False  False  False  False   True   \n",
            "4     ...  False  False  False  False   True  False  False  False  False   \n",
            "...   ...    ...    ...    ...    ...    ...    ...    ...    ...    ...   \n",
            "8119  ...  False  False  False  False  False   True  False  False  False   \n",
            "8120  ...  False   True  False  False  False   True  False  False  False   \n",
            "8121  ...  False  False  False  False  False   True  False  False  False   \n",
            "8122  ...  False   True  False  False  False   True  False  False  False   \n",
            "8123  ...  False  False  False  False  False   True  False  False  False   \n",
            "\n",
            "       22_w  \n",
            "0     False  \n",
            "1     False  \n",
            "2     False  \n",
            "3     False  \n",
            "4     False  \n",
            "...     ...  \n",
            "8119  False  \n",
            "8120  False  \n",
            "8121  False  \n",
            "8122  False  \n",
            "8123  False  \n",
            "\n",
            "[8124 rows x 117 columns]\n",
            "[[3363    0]\n",
            " [   0 3137]]\n",
            "              precision    recall  f1-score   support\n",
            "\n",
            "           e       1.00      1.00      1.00      3363\n",
            "           p       1.00      1.00      1.00      3137\n",
            "\n",
            "    accuracy                           1.00      6500\n",
            "   macro avg       1.00      1.00      1.00      6500\n",
            "weighted avg       1.00      1.00      1.00      6500\n",
            "\n"
          ]
        }
      ]
    },
    {
      "cell_type": "markdown",
      "source": [
        "SVM after one-hot encoding"
      ],
      "metadata": {
        "id": "0Ozr2GKFfWv9"
      }
    },
    {
      "cell_type": "code",
      "source": [
        "import pandas as pd\n",
        "from sklearn import svm\n",
        "\n",
        "data = pd.read_csv('https://archive.ics.uci.edu/ml/machine-learning-databases/mushroom/agaricus-lepiota.data',header=None)\n",
        "\n",
        "x = data.iloc[:,1:]\n",
        "y = data.iloc[:, 0]\n",
        "\n",
        "x = pd.get_dummies(x) #one-hot encoding\n",
        "\n",
        "from sklearn.model_selection import train_test_split\n",
        "x_train, x_test, y_train, y_test = train_test_split(x, y, test_size=0.8)\n",
        "\n",
        "classifier = svm.SVC(kernel='poly')\n",
        "classifier.fit(x_train, y_train)\n",
        "\n",
        "#predict the labels of clusters.\n",
        "y_predicted = classifier.predict(x_test)\n",
        "\n",
        "from sklearn.metrics import classification_report, confusion_matrix\n",
        "print(confusion_matrix(y_test, y_predicted))\n",
        "print(classification_report(y_test, y_predicted))"
      ],
      "metadata": {
        "colab": {
          "base_uri": "https://localhost:8080/"
        },
        "id": "jvyot1mSfZRH",
        "outputId": "204d52fa-73cc-4dba-a83e-0a01745c7464"
      },
      "execution_count": null,
      "outputs": [
        {
          "output_type": "stream",
          "name": "stdout",
          "text": [
            "[[3376    0]\n",
            " [   0 3124]]\n",
            "              precision    recall  f1-score   support\n",
            "\n",
            "           e       1.00      1.00      1.00      3376\n",
            "           p       1.00      1.00      1.00      3124\n",
            "\n",
            "    accuracy                           1.00      6500\n",
            "   macro avg       1.00      1.00      1.00      6500\n",
            "weighted avg       1.00      1.00      1.00      6500\n",
            "\n"
          ]
        }
      ]
    },
    {
      "cell_type": "markdown",
      "source": [
        "Logistic regression after label encoding"
      ],
      "metadata": {
        "id": "pmSoWnDXfdbg"
      }
    },
    {
      "cell_type": "code",
      "source": [
        "import pandas as pd\n",
        "from sklearn.linear_model import LogisticRegression\n",
        "from sklearn.preprocessing import LabelEncoder\n",
        "\n",
        "data = pd.read_csv('https://archive.ics.uci.edu/ml/machine-learning-databases/mushroom/agaricus-lepiota.data',header=None)\n",
        "\n",
        "x = data.iloc[:,1:]\n",
        "y = data.iloc[:, 0]\n",
        "\n",
        "labelencoder=LabelEncoder()\n",
        "x = x.apply(labelencoder.fit_transform)\n",
        "\n",
        "from sklearn.model_selection import train_test_split\n",
        "x_train, x_test, y_train, y_test = train_test_split(x, y, test_size=0.7)\n",
        "\n",
        "classifier = LogisticRegression(max_iter=1000)\n",
        "classifier.fit(x_train, y_train)\n",
        "\n",
        "#predict the labels of clusters.\n",
        "y_predicted = classifier.predict(x_test)\n",
        "\n",
        "from sklearn.metrics import classification_report, confusion_matrix\n",
        "print(confusion_matrix(y_test, y_predicted))\n",
        "print(classification_report(y_test, y_predicted))"
      ],
      "metadata": {
        "colab": {
          "base_uri": "https://localhost:8080/"
        },
        "id": "wromFZzOfg4h",
        "outputId": "9dc1d155-9d83-4d35-bcb0-bff6e1cd182a"
      },
      "execution_count": null,
      "outputs": [
        {
          "output_type": "stream",
          "name": "stdout",
          "text": [
            "[[2820  117]\n",
            " [ 164 2586]]\n",
            "              precision    recall  f1-score   support\n",
            "\n",
            "           e       0.95      0.96      0.95      2937\n",
            "           p       0.96      0.94      0.95      2750\n",
            "\n",
            "    accuracy                           0.95      5687\n",
            "   macro avg       0.95      0.95      0.95      5687\n",
            "weighted avg       0.95      0.95      0.95      5687\n",
            "\n"
          ]
        }
      ]
    },
    {
      "cell_type": "markdown",
      "source": [
        "Logistic regression after one-hot encoding"
      ],
      "metadata": {
        "id": "GaT_l36gfixr"
      }
    },
    {
      "cell_type": "code",
      "source": [
        "import pandas as pd\n",
        "from sklearn.linear_model import LogisticRegression\n",
        "\n",
        "data = pd.read_csv('https://archive.ics.uci.edu/ml/machine-learning-databases/mushroom/agaricus-lepiota.data',header=None)\n",
        "\n",
        "x = data.iloc[:,1:]\n",
        "y = data.iloc[:, 0]\n",
        "\n",
        "x = pd.get_dummies(x)\n",
        "\n",
        "from sklearn.model_selection import train_test_split\n",
        "x_train, x_test, y_train, y_test = train_test_split(x, y, test_size=0.7)\n",
        "\n",
        "classifier = LogisticRegression(max_iter=1000)\n",
        "classifier.fit(x_train, y_train)\n",
        "\n",
        "#predict the labels of clusters.\n",
        "y_predicted = classifier.predict(x_test)\n",
        "\n",
        "from sklearn.metrics import classification_report, confusion_matrix\n",
        "print(confusion_matrix(y_test, y_predicted))\n",
        "print(classification_report(y_test, y_predicted))"
      ],
      "metadata": {
        "colab": {
          "base_uri": "https://localhost:8080/"
        },
        "id": "RhGCf1w1fn4b",
        "outputId": "a1d0387e-7e82-4777-f0a8-0aacc6541a94"
      },
      "execution_count": null,
      "outputs": [
        {
          "output_type": "stream",
          "name": "stdout",
          "text": [
            "[[2912    0]\n",
            " [   6 2769]]\n",
            "              precision    recall  f1-score   support\n",
            "\n",
            "           e       1.00      1.00      1.00      2912\n",
            "           p       1.00      1.00      1.00      2775\n",
            "\n",
            "    accuracy                           1.00      5687\n",
            "   macro avg       1.00      1.00      1.00      5687\n",
            "weighted avg       1.00      1.00      1.00      5687\n",
            "\n"
          ]
        }
      ]
    },
    {
      "cell_type": "markdown",
      "source": [
        "Gaussian Naive Bayes  after label encoding"
      ],
      "metadata": {
        "id": "uo8TvlHdgLIc"
      }
    },
    {
      "cell_type": "code",
      "source": [
        "import pandas as pd\n",
        "from sklearn.naive_bayes import GaussianNB\n",
        "from sklearn.preprocessing import LabelEncoder\n",
        "\n",
        "data = pd.read_csv('https://archive.ics.uci.edu/ml/machine-learning-databases/mushroom/agaricus-lepiota.data',header=None)\n",
        "\n",
        "x = data.iloc[:,1:]\n",
        "y = data.iloc[:, 0]\n",
        "\n",
        "labelencoder=LabelEncoder()\n",
        "x = x.apply(labelencoder.fit_transform)\n",
        "\n",
        "print(x)\n",
        "\n",
        "from sklearn.model_selection import train_test_split\n",
        "x_train, x_test, y_train, y_test = train_test_split(x, y, test_size=0.7)\n",
        "\n",
        "classifier = GaussianNB()\n",
        "classifier.fit(x_train, y_train)\n",
        "\n",
        "#predict the labels of clusters.\n",
        "y_predicted = classifier.predict(x_test)\n",
        "\n",
        "from sklearn.metrics import classification_report, confusion_matrix\n",
        "print(confusion_matrix(y_test, y_predicted))\n",
        "print(classification_report(y_test, y_predicted))"
      ],
      "metadata": {
        "colab": {
          "base_uri": "https://localhost:8080/"
        },
        "id": "GZON--MngRcN",
        "outputId": "57a3af13-c92e-42d3-a3ac-f2a4a0b7ddeb"
      },
      "execution_count": null,
      "outputs": [
        {
          "output_type": "stream",
          "name": "stdout",
          "text": [
            "      1   2   3   4   5   6   7   8   9   10  ...  13  14  15  16  17  18  19  \\\n",
            "0      5   2   4   1   6   1   0   1   4   0  ...   2   7   7   0   2   1   4   \n",
            "1      5   2   9   1   0   1   0   0   4   0  ...   2   7   7   0   2   1   4   \n",
            "2      0   2   8   1   3   1   0   0   5   0  ...   2   7   7   0   2   1   4   \n",
            "3      5   3   8   1   6   1   0   1   5   0  ...   2   7   7   0   2   1   4   \n",
            "4      5   2   3   0   5   1   1   0   4   1  ...   2   7   7   0   2   1   0   \n",
            "...   ..  ..  ..  ..  ..  ..  ..  ..  ..  ..  ...  ..  ..  ..  ..  ..  ..  ..   \n",
            "8119   3   2   4   0   5   0   0   0  11   0  ...   2   5   5   0   1   1   4   \n",
            "8120   5   2   4   0   5   0   0   0  11   0  ...   2   5   5   0   0   1   4   \n",
            "8121   2   2   4   0   5   0   0   0   5   0  ...   2   5   5   0   1   1   4   \n",
            "8122   3   3   4   0   8   1   0   1   0   1  ...   1   7   7   0   2   1   0   \n",
            "8123   5   2   4   0   5   0   0   0  11   0  ...   2   5   5   0   1   1   4   \n",
            "\n",
            "      20  21  22  \n",
            "0      2   3   5  \n",
            "1      3   2   1  \n",
            "2      3   2   3  \n",
            "3      2   3   5  \n",
            "4      3   0   1  \n",
            "...   ..  ..  ..  \n",
            "8119   0   1   2  \n",
            "8120   0   4   2  \n",
            "8121   0   1   2  \n",
            "8122   7   4   2  \n",
            "8123   4   1   2  \n",
            "\n",
            "[8124 rows x 22 columns]\n",
            "[[2747  216]\n",
            " [ 215 2509]]\n",
            "              precision    recall  f1-score   support\n",
            "\n",
            "           e       0.93      0.93      0.93      2963\n",
            "           p       0.92      0.92      0.92      2724\n",
            "\n",
            "    accuracy                           0.92      5687\n",
            "   macro avg       0.92      0.92      0.92      5687\n",
            "weighted avg       0.92      0.92      0.92      5687\n",
            "\n"
          ]
        }
      ]
    },
    {
      "cell_type": "markdown",
      "source": [
        "Multinomial Naive Bayes after label encoding"
      ],
      "metadata": {
        "id": "RmoRqORigf55"
      }
    },
    {
      "cell_type": "code",
      "source": [
        "import pandas as pd\n",
        "from sklearn.naive_bayes import MultinomialNB\n",
        "from sklearn.preprocessing import LabelEncoder\n",
        "\n",
        "data = pd.read_csv('https://archive.ics.uci.edu/ml/machine-learning-databases/mushroom/agaricus-lepiota.data',header=None)\n",
        "\n",
        "x = data.iloc[:,1:]\n",
        "y = data.iloc[:, 0]\n",
        "\n",
        "labelencoder=LabelEncoder()\n",
        "x = x.apply(labelencoder.fit_transform)\n",
        "\n",
        "print(x)\n",
        "\n",
        "from sklearn.model_selection import train_test_split\n",
        "x_train, x_test, y_train, y_test = train_test_split(x, y, test_size=0.7)\n",
        "\n",
        "classifier = MultinomialNB()\n",
        "classifier.fit(x_train, y_train)\n",
        "\n",
        "#predict the labels of clusters.\n",
        "y_predicted = classifier.predict(x_test)\n",
        "\n",
        "from sklearn.metrics import classification_report, confusion_matrix\n",
        "print(confusion_matrix(y_test, y_predicted))\n",
        "print(classification_report(y_test, y_predicted))"
      ],
      "metadata": {
        "colab": {
          "base_uri": "https://localhost:8080/"
        },
        "id": "UeAIv25vglD-",
        "outputId": "7158bc2d-ee4c-41b2-b489-209b1694ee08"
      },
      "execution_count": null,
      "outputs": [
        {
          "output_type": "stream",
          "name": "stdout",
          "text": [
            "      1   2   3   4   5   6   7   8   9   10  ...  13  14  15  16  17  18  19  \\\n",
            "0      5   2   4   1   6   1   0   1   4   0  ...   2   7   7   0   2   1   4   \n",
            "1      5   2   9   1   0   1   0   0   4   0  ...   2   7   7   0   2   1   4   \n",
            "2      0   2   8   1   3   1   0   0   5   0  ...   2   7   7   0   2   1   4   \n",
            "3      5   3   8   1   6   1   0   1   5   0  ...   2   7   7   0   2   1   4   \n",
            "4      5   2   3   0   5   1   1   0   4   1  ...   2   7   7   0   2   1   0   \n",
            "...   ..  ..  ..  ..  ..  ..  ..  ..  ..  ..  ...  ..  ..  ..  ..  ..  ..  ..   \n",
            "8119   3   2   4   0   5   0   0   0  11   0  ...   2   5   5   0   1   1   4   \n",
            "8120   5   2   4   0   5   0   0   0  11   0  ...   2   5   5   0   0   1   4   \n",
            "8121   2   2   4   0   5   0   0   0   5   0  ...   2   5   5   0   1   1   4   \n",
            "8122   3   3   4   0   8   1   0   1   0   1  ...   1   7   7   0   2   1   0   \n",
            "8123   5   2   4   0   5   0   0   0  11   0  ...   2   5   5   0   1   1   4   \n",
            "\n",
            "      20  21  22  \n",
            "0      2   3   5  \n",
            "1      3   2   1  \n",
            "2      3   2   3  \n",
            "3      2   3   5  \n",
            "4      3   0   1  \n",
            "...   ..  ..  ..  \n",
            "8119   0   1   2  \n",
            "8120   0   4   2  \n",
            "8121   0   1   2  \n",
            "8122   7   4   2  \n",
            "8123   4   1   2  \n",
            "\n",
            "[8124 rows x 22 columns]\n",
            "[[2745  209]\n",
            " [ 859 1874]]\n",
            "              precision    recall  f1-score   support\n",
            "\n",
            "           e       0.76      0.93      0.84      2954\n",
            "           p       0.90      0.69      0.78      2733\n",
            "\n",
            "    accuracy                           0.81      5687\n",
            "   macro avg       0.83      0.81      0.81      5687\n",
            "weighted avg       0.83      0.81      0.81      5687\n",
            "\n"
          ]
        }
      ]
    },
    {
      "cell_type": "markdown",
      "source": [
        "Gaussian Naive Bayes after one-hot encoding"
      ],
      "metadata": {
        "id": "Id3F_p7PhJty"
      }
    },
    {
      "cell_type": "code",
      "source": [
        "import pandas as pd\n",
        "from sklearn.naive_bayes import GaussianNB\n",
        "\n",
        "data = pd.read_csv('https://archive.ics.uci.edu/ml/machine-learning-databases/mushroom/agaricus-lepiota.data',header=None)\n",
        "\n",
        "x = data.iloc[:,1:]\n",
        "y = data.iloc[:, 0]\n",
        "\n",
        "x = pd.get_dummies(x)\n",
        "\n",
        "from sklearn.model_selection import train_test_split\n",
        "x_train, x_test, y_train, y_test = train_test_split(x, y, test_size=0.7)\n",
        "\n",
        "classifier = GaussianNB()\n",
        "\n",
        "\n",
        "\n",
        "classifier.fit(x_train, y_train)\n",
        "\n",
        "#predict the labels of clusters.\n",
        "y_predicted = classifier.predict(x_test)\n",
        "\n",
        "from sklearn.metrics import classification_report, confusion_matrix\n",
        "print(confusion_matrix(y_test, y_predicted))\n",
        "print(classification_report(y_test, y_predicted))"
      ],
      "metadata": {
        "colab": {
          "base_uri": "https://localhost:8080/"
        },
        "id": "rHGdk3azguhX",
        "outputId": "bf842e21-d7af-41ee-86cc-5dddef348769"
      },
      "execution_count": null,
      "outputs": [
        {
          "output_type": "stream",
          "name": "stdout",
          "text": [
            "[[2563  375]\n",
            " [   4 2745]]\n",
            "              precision    recall  f1-score   support\n",
            "\n",
            "           e       1.00      0.87      0.93      2938\n",
            "           p       0.88      1.00      0.94      2749\n",
            "\n",
            "    accuracy                           0.93      5687\n",
            "   macro avg       0.94      0.94      0.93      5687\n",
            "weighted avg       0.94      0.93      0.93      5687\n",
            "\n"
          ]
        }
      ]
    },
    {
      "cell_type": "markdown",
      "source": [
        "Multinomial Naive Bayes after one-hot encoding"
      ],
      "metadata": {
        "id": "I7Fdl1sehYtH"
      }
    },
    {
      "cell_type": "code",
      "source": [
        "import pandas as pd\n",
        "from sklearn.naive_bayes import MultinomialNB\n",
        "\n",
        "\n",
        "data = pd.read_csv('https://archive.ics.uci.edu/ml/machine-learning-databases/mushroom/agaricus-lepiota.data',header=None)\n",
        "\n",
        "x = data.iloc[:,1:]\n",
        "y = data.iloc[:, 0]\n",
        "\n",
        "x = pd.get_dummies(x)\n",
        "\n",
        "print(x)\n",
        "\n",
        "from sklearn.model_selection import train_test_split\n",
        "x_train, x_test, y_train, y_test = train_test_split(x, y, test_size=0.7)\n",
        "\n",
        "classifier = MultinomialNB()\n",
        "classifier.fit(x_train, y_train)\n",
        "\n",
        "#predict the labels of clusters.\n",
        "y_predicted = classifier.predict(x_test)\n",
        "\n",
        "from sklearn.metrics import classification_report, confusion_matrix\n",
        "print(confusion_matrix(y_test, y_predicted))\n",
        "print(classification_report(y_test, y_predicted))"
      ],
      "metadata": {
        "colab": {
          "base_uri": "https://localhost:8080/"
        },
        "id": "oNNkH1vphRpK",
        "outputId": "e1ba83bc-cfe4-44ed-8834-671950340283"
      },
      "execution_count": null,
      "outputs": [
        {
          "output_type": "stream",
          "name": "stdout",
          "text": [
            "        1_b    1_c    1_f    1_k    1_s    1_x    2_f    2_g    2_s    2_y  \\\n",
            "0     False  False  False  False  False   True  False  False   True  False   \n",
            "1     False  False  False  False  False   True  False  False   True  False   \n",
            "2      True  False  False  False  False  False  False  False   True  False   \n",
            "3     False  False  False  False  False   True  False  False  False   True   \n",
            "4     False  False  False  False  False   True  False  False   True  False   \n",
            "...     ...    ...    ...    ...    ...    ...    ...    ...    ...    ...   \n",
            "8119  False  False  False   True  False  False  False  False   True  False   \n",
            "8120  False  False  False  False  False   True  False  False   True  False   \n",
            "8121  False  False   True  False  False  False  False  False   True  False   \n",
            "8122  False  False  False   True  False  False  False  False  False   True   \n",
            "8123  False  False  False  False  False   True  False  False   True  False   \n",
            "\n",
            "      ...   21_s   21_v   21_y   22_d   22_g   22_l   22_m   22_p   22_u  \\\n",
            "0     ...   True  False  False  False  False  False  False  False   True   \n",
            "1     ...  False  False  False  False   True  False  False  False  False   \n",
            "2     ...  False  False  False  False  False  False   True  False  False   \n",
            "3     ...   True  False  False  False  False  False  False  False   True   \n",
            "4     ...  False  False  False  False   True  False  False  False  False   \n",
            "...   ...    ...    ...    ...    ...    ...    ...    ...    ...    ...   \n",
            "8119  ...  False  False  False  False  False   True  False  False  False   \n",
            "8120  ...  False   True  False  False  False   True  False  False  False   \n",
            "8121  ...  False  False  False  False  False   True  False  False  False   \n",
            "8122  ...  False   True  False  False  False   True  False  False  False   \n",
            "8123  ...  False  False  False  False  False   True  False  False  False   \n",
            "\n",
            "       22_w  \n",
            "0     False  \n",
            "1     False  \n",
            "2     False  \n",
            "3     False  \n",
            "4     False  \n",
            "...     ...  \n",
            "8119  False  \n",
            "8120  False  \n",
            "8121  False  \n",
            "8122  False  \n",
            "8123  False  \n",
            "\n",
            "[8124 rows x 117 columns]\n",
            "[[2934   19]\n",
            " [ 301 2433]]\n",
            "              precision    recall  f1-score   support\n",
            "\n",
            "           e       0.91      0.99      0.95      2953\n",
            "           p       0.99      0.89      0.94      2734\n",
            "\n",
            "    accuracy                           0.94      5687\n",
            "   macro avg       0.95      0.94      0.94      5687\n",
            "weighted avg       0.95      0.94      0.94      5687\n",
            "\n"
          ]
        }
      ]
    },
    {
      "cell_type": "markdown",
      "source": [
        "Random Forest after label encoding"
      ],
      "metadata": {
        "id": "PoZtdTExAF1i"
      }
    },
    {
      "cell_type": "code",
      "source": [
        "import pandas as pd\n",
        "from sklearn.ensemble import RandomForestClassifier\n",
        "from sklearn.preprocessing import LabelEncoder\n",
        "\n",
        "data = pd.read_csv('https://archive.ics.uci.edu/ml/machine-learning-databases/mushroom/agaricus-lepiota.data',header=None)\n",
        "\n",
        "x = data.iloc[:,1:]\n",
        "y = data.iloc[:, 0]\n",
        "\n",
        "labelencoder=LabelEncoder()\n",
        "x = x.apply(labelencoder.fit_transform)\n",
        "\n",
        "from sklearn.model_selection import train_test_split\n",
        "x_train, x_test, y_train, y_test = train_test_split(x, y, test_size=0.9)\n",
        "\n",
        "classifier = RandomForestClassifier(n_estimators=50)\n",
        "classifier.fit(x_train, y_train)\n",
        "\n",
        "#predict the labels of clusters.\n",
        "y_predicted = classifier.predict(x_test)\n",
        "\n",
        "from sklearn.metrics import classification_report, confusion_matrix\n",
        "print(confusion_matrix(y_test, y_predicted))\n",
        "print(classification_report(y_test, y_predicted))"
      ],
      "metadata": {
        "colab": {
          "base_uri": "https://localhost:8080/"
        },
        "id": "YpW4eJHiAJGs",
        "outputId": "da99caa3-4324-474a-c9af-d1354f7db87f"
      },
      "execution_count": 3,
      "outputs": [
        {
          "output_type": "stream",
          "name": "stdout",
          "text": [
            "[[3771    3]\n",
            " [   8 3530]]\n",
            "              precision    recall  f1-score   support\n",
            "\n",
            "           e       1.00      1.00      1.00      3774\n",
            "           p       1.00      1.00      1.00      3538\n",
            "\n",
            "    accuracy                           1.00      7312\n",
            "   macro avg       1.00      1.00      1.00      7312\n",
            "weighted avg       1.00      1.00      1.00      7312\n",
            "\n"
          ]
        }
      ]
    },
    {
      "cell_type": "markdown",
      "source": [
        "Random Forest after ONE-HOT encoding"
      ],
      "metadata": {
        "id": "BFvxz3olBONN"
      }
    },
    {
      "cell_type": "code",
      "source": [
        "import pandas as pd\n",
        "from sklearn.ensemble import RandomForestClassifier\n",
        "\n",
        "data = pd.read_csv('https://archive.ics.uci.edu/ml/machine-learning-databases/mushroom/agaricus-lepiota.data',header=None)\n",
        "\n",
        "x = data.iloc[:,1:]\n",
        "y = data.iloc[:, 0]\n",
        "\n",
        "x = pd.get_dummies(x)\n",
        "\n",
        "from sklearn.model_selection import train_test_split\n",
        "x_train, x_test, y_train, y_test = train_test_split(x, y, test_size=0.9)\n",
        "\n",
        "classifier = RandomForestClassifier(n_estimators=50)\n",
        "classifier.fit(x_train, y_train)\n",
        "\n",
        "#predict the labels of clusters.\n",
        "y_predicted = classifier.predict(x_test)\n",
        "\n",
        "from sklearn.metrics import classification_report, confusion_matrix\n",
        "print(confusion_matrix(y_test, y_predicted))\n",
        "print(classification_report(y_test, y_predicted))"
      ],
      "metadata": {
        "colab": {
          "base_uri": "https://localhost:8080/"
        },
        "id": "A4tRpkbcBQ_L",
        "outputId": "a70b67cc-37d1-4585-89d9-586f025f3467"
      },
      "execution_count": 4,
      "outputs": [
        {
          "output_type": "stream",
          "name": "stdout",
          "text": [
            "[[3779    0]\n",
            " [  27 3506]]\n",
            "              precision    recall  f1-score   support\n",
            "\n",
            "           e       0.99      1.00      1.00      3779\n",
            "           p       1.00      0.99      1.00      3533\n",
            "\n",
            "    accuracy                           1.00      7312\n",
            "   macro avg       1.00      1.00      1.00      7312\n",
            "weighted avg       1.00      1.00      1.00      7312\n",
            "\n"
          ]
        }
      ]
    }
  ]
}